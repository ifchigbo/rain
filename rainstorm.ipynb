{
 "cells": [
  {
   "cell_type": "code",
   "execution_count": 6,
   "metadata": {},
   "outputs": [
    {
     "ename": "ImportError",
     "evalue": "cannot import name 'ParserErrorr' from 'pandas.errors' (/Users/ichigbo/Documents/dataML_data_science/MLseries/lib/python3.9/site-packages/pandas/errors/__init__.py)",
     "output_type": "error",
     "traceback": [
      "\u001b[0;31m---------------------------------------------------------------------------\u001b[0m",
      "\u001b[0;31mImportError\u001b[0m                               Traceback (most recent call last)",
      "\u001b[1;32m/Users/ichigbo/Documents/dataML_data_science/MLseries/doge/rainstorm.ipynb Cell 1'\u001b[0m in \u001b[0;36m<module>\u001b[0;34m\u001b[0m\n\u001b[1;32m      <a href='vscode-notebook-cell:/Users/ichigbo/Documents/dataML_data_science/MLseries/doge/rainstorm.ipynb#ch0000000?line=4'>5</a>\u001b[0m \u001b[39mimport\u001b[39;00m \u001b[39mgeopandas\u001b[39;00m \u001b[39mas\u001b[39;00m \u001b[39mgpd\u001b[39;00m\n\u001b[1;32m      <a href='vscode-notebook-cell:/Users/ichigbo/Documents/dataML_data_science/MLseries/doge/rainstorm.ipynb#ch0000000?line=5'>6</a>\u001b[0m \u001b[39mimport\u001b[39;00m \u001b[39mnumpy\u001b[39;00m \u001b[39mas\u001b[39;00m \u001b[39mnp\u001b[39;00m\n\u001b[0;32m----> <a href='vscode-notebook-cell:/Users/ichigbo/Documents/dataML_data_science/MLseries/doge/rainstorm.ipynb#ch0000000?line=6'>7</a>\u001b[0m \u001b[39mfrom\u001b[39;00m \u001b[39mpandas\u001b[39;00m\u001b[39m.\u001b[39;00m\u001b[39merrors\u001b[39;00m \u001b[39mimport\u001b[39;00m ParserErrorr\n",
      "\u001b[0;31mImportError\u001b[0m: cannot import name 'ParserErrorr' from 'pandas.errors' (/Users/ichigbo/Documents/dataML_data_science/MLseries/lib/python3.9/site-packages/pandas/errors/__init__.py)"
     ]
    }
   ],
   "source": [
    "import pandas as pd\n",
    "import seaborn as sb\n",
    "from matplotlib import pyplot as plt\n",
    "import sklearn\n",
    "import geopandas as gpd\n",
    "import numpy as np\n",
    "from pandas.errors import ParserError\n"
   ]
  },
  {
   "cell_type": "code",
   "execution_count": 3,
   "metadata": {},
   "outputs": [],
   "source": [
    "def getDataSet():\n",
    "    try:\n",
    "        rain = pd.read_csv('rainstorm9804_2208.csv')\n",
    "    except ParserErrorr as error:\n",
    "        print(error)\n",
    "    return rain"
   ]
  },
  {
   "cell_type": "code",
   "execution_count": 5,
   "metadata": {},
   "outputs": [
    {
     "ename": "NameError",
     "evalue": "name 'getDataSet' is not defined",
     "output_type": "error",
     "traceback": [
      "\u001b[0;31m---------------------------------------------------------------------------\u001b[0m",
      "\u001b[0;31mNameError\u001b[0m                                 Traceback (most recent call last)",
      "\u001b[1;32m/Users/ichigbo/Documents/dataML_data_science/MLseries/doge/rainstorm.ipynb Cell 3'\u001b[0m in \u001b[0;36m<module>\u001b[0;34m\u001b[0m\n\u001b[0;32m----> <a href='vscode-notebook-cell:/Users/ichigbo/Documents/dataML_data_science/MLseries/doge/rainstorm.ipynb#ch0000002?line=0'>1</a>\u001b[0m df \u001b[39m=\u001b[39m getDataSet()\n\u001b[1;32m      <a href='vscode-notebook-cell:/Users/ichigbo/Documents/dataML_data_science/MLseries/doge/rainstorm.ipynb#ch0000002?line=1'>2</a>\u001b[0m df\u001b[39m.\u001b[39minfo\n",
      "\u001b[0;31mNameError\u001b[0m: name 'getDataSet' is not defined"
     ]
    }
   ],
   "source": [
    "df = getDataSet()\n",
    "df.info\n",
    "    "
   ]
  },
  {
   "cell_type": "code",
   "execution_count": null,
   "metadata": {},
   "outputs": [],
   "source": []
  }
 ],
 "metadata": {
  "kernelspec": {
   "display_name": "Python 3.9.0 ('MLseries')",
   "language": "python",
   "name": "python3"
  },
  "language_info": {
   "codemirror_mode": {
    "name": "ipython",
    "version": 3
   },
   "file_extension": ".py",
   "mimetype": "text/x-python",
   "name": "python",
   "nbconvert_exporter": "python",
   "pygments_lexer": "ipython3",
   "version": "3.9.0"
  },
  "orig_nbformat": 4,
  "vscode": {
   "interpreter": {
    "hash": "3f8122ea538cd25ab16c16404576ed6f8cdf54d3516a53da4285bbcfeaea58c4"
   }
  }
 },
 "nbformat": 4,
 "nbformat_minor": 2
}
